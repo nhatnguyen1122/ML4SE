{
 "cells": [
  {
   "cell_type": "code",
   "execution_count": 2,
   "metadata": {},
   "outputs": [],
   "source": [
    "import pandas as pd\n",
    "\n",
    "df = pd.read_csv('dataset_comp_adjust.csv')\n",
    "\n",
    "df['ratio_0_1'] = df['ratio_0_1'].round(4)\n",
    "df['AUC'] = df['AUC'].round(4)\n",
    "df['dataset_size'] = df['dataset_size'].round(4)\n",
    "\n",
    "file1 = df[['Name', 'ratio_0_1', 'AUC']].sort_values(by='ratio_0_1', ascending=False)\n",
    "\n",
    "file2 = df[['Name', 'dataset_size', 'AUC']].sort_values(by='dataset_size', ascending=False)\n",
    "\n",
    "file1.to_csv('file1.csv', index=False)\n",
    "file2.to_csv('file2.csv', index=False)\n"
   ]
  },
  {
   "cell_type": "code",
   "execution_count": null,
   "metadata": {},
   "outputs": [],
   "source": []
  }
 ],
 "metadata": {
  "kernelspec": {
   "display_name": "Python 3",
   "language": "python",
   "name": "python3"
  },
  "language_info": {
   "codemirror_mode": {
    "name": "ipython",
    "version": 3
   },
   "file_extension": ".py",
   "mimetype": "text/x-python",
   "name": "python",
   "nbconvert_exporter": "python",
   "pygments_lexer": "ipython3",
   "version": "3.11.4"
  }
 },
 "nbformat": 4,
 "nbformat_minor": 2
}
