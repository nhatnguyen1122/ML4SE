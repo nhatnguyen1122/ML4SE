{
 "cells": [
  {
   "cell_type": "code",
   "execution_count": 7,
   "metadata": {},
   "outputs": [],
   "source": [
    "#invite people for the Kaggle party\n",
    "import pandas as pd\n",
    "import matplotlib.pyplot as plt\n",
    "import seaborn as sns\n",
    "import os\n",
    "import numpy as np\n",
    "from scipy.stats import norm\n",
    "from sklearn.preprocessing import StandardScaler\n",
    "from scipy import stats\n",
    "import warnings\n",
    "warnings.filterwarnings('ignore')\n",
    "%matplotlib inline"
   ]
  },
  {
   "cell_type": "code",
   "execution_count": 8,
   "metadata": {},
   "outputs": [
    {
     "ename": "FileNotFoundError",
     "evalue": "[WinError 3] The system cannot find the path specified: '../dataset'",
     "output_type": "error",
     "traceback": [
      "\u001b[1;31m---------------------------------------------------------------------------\u001b[0m",
      "\u001b[1;31mFileNotFoundError\u001b[0m                         Traceback (most recent call last)",
      "Cell \u001b[1;32mIn[8], line 8\u001b[0m\n\u001b[0;32m      5\u001b[0m sample_counts \u001b[38;5;241m=\u001b[39m {}\n\u001b[0;32m      7\u001b[0m \u001b[38;5;66;03m# Loop through all files in the folder\u001b[39;00m\n\u001b[1;32m----> 8\u001b[0m \u001b[38;5;28;01mfor\u001b[39;00m filename \u001b[38;5;129;01min\u001b[39;00m \u001b[43mos\u001b[49m\u001b[38;5;241;43m.\u001b[39;49m\u001b[43mlistdir\u001b[49m\u001b[43m(\u001b[49m\u001b[43mfolder_path\u001b[49m\u001b[43m)\u001b[49m:\n\u001b[0;32m      9\u001b[0m     \u001b[38;5;66;03m# Check if the file is a CSV file\u001b[39;00m\n\u001b[0;32m     10\u001b[0m     \u001b[38;5;28;01mif\u001b[39;00m filename\u001b[38;5;241m.\u001b[39mendswith(\u001b[38;5;124m'\u001b[39m\u001b[38;5;124m.csv\u001b[39m\u001b[38;5;124m'\u001b[39m):\n\u001b[0;32m     11\u001b[0m         \u001b[38;5;66;03m# Full path to the CSV file\u001b[39;00m\n\u001b[0;32m     12\u001b[0m         file_path \u001b[38;5;241m=\u001b[39m os\u001b[38;5;241m.\u001b[39mpath\u001b[38;5;241m.\u001b[39mjoin(folder_path, filename)\n",
      "\u001b[1;31mFileNotFoundError\u001b[0m: [WinError 3] The system cannot find the path specified: '../dataset'"
     ]
    }
   ],
   "source": [
    "# Path to your datasets folder\n",
    "folder_path = '../dataset'\n",
    "\n",
    "# Dictionary to store sample counts for each dataset\n",
    "sample_counts = {}\n",
    "\n",
    "# Loop through all files in the folder\n",
    "for filename in os.listdir(folder_path):\n",
    "    # Check if the file is a CSV file\n",
    "    if filename.endswith('.csv'):\n",
    "        # Full path to the CSV file\n",
    "        file_path = os.path.join(folder_path, filename)\n",
    "        \n",
    "        # Read the dataset and count the samples (rows)\n",
    "        df = pd.read_csv(file_path)\n",
    "        sample_counts[filename] = len(df)\n",
    "\n",
    "# Plotting the sample counts as a horizontal bar chart\n",
    "plt.figure(figsize=(10, 6))\n",
    "plt.barh(list(sample_counts.keys()), list(sample_counts.values()))\n",
    "plt.xlabel('Number of Samples')\n",
    "plt.ylabel('Dataset')\n",
    "plt.title('Number of Samples in Each Dataset')\n",
    "plt.tight_layout()\n",
    "plt.show()\n"
   ]
  },
  {
   "cell_type": "code",
   "execution_count": null,
   "metadata": {},
   "outputs": [],
   "source": [
    "# Path to your datasets folder\n",
    "folder_path = '../dataset'\n",
    "\n",
    "# Dictionary to store counts for each dataset\n",
    "data_counts = {}\n",
    "\n",
    "# Loop through each file in the folder\n",
    "for filename in os.listdir(folder_path):\n",
    "    if filename.endswith('.csv'):\n",
    "        # Read each dataset\n",
    "        file_path = os.path.join(folder_path, filename)\n",
    "        df = pd.read_csv(file_path)\n",
    "        \n",
    "        # Count the 1s and 0s in the 'label' column\n",
    "        counts = df['label'].value_counts()\n",
    "        zeros = counts.get(0, 0)  # Get count of 0s (default to 0 if not found)\n",
    "        ones = counts.get(1, 0)   # Get count of 1s (default to 0 if not found)\n",
    "        \n",
    "        # Store the counts in the dictionary\n",
    "        data_counts[filename] = {'0': zeros, '1': ones}\n",
    "\n",
    "# Convert dictionary to DataFrame for easy plotting\n",
    "count_df = pd.DataFrame(data_counts).T  # Transpose for easier plotting\n",
    "\n",
    "# Setting up bar positions and width\n",
    "datasets = count_df.index\n",
    "y = np.arange(len(datasets))  # Label locations\n",
    "height = 0.35  # Width of the bars\n",
    "\n",
    "# Plotting\n",
    "fig, ax = plt.subplots(figsize=(10, 6))\n",
    "bar1 = ax.barh(y - height/2, count_df['0'], height, label='0')\n",
    "bar2 = ax.barh(y + height/2, count_df['1'], height, label='1')\n",
    "\n",
    "# Adding labels, title, and custom y-axis tick labels\n",
    "ax.set_ylabel('Dataset')\n",
    "ax.set_xlabel('Count')\n",
    "ax.set_title('Comparison of 1s and 0s in the Label Column Across Datasets')\n",
    "ax.set_yticks(y)\n",
    "ax.set_yticklabels(datasets)\n",
    "ax.legend(title='Label')\n",
    "\n",
    "# Display the plot\n",
    "plt.tight_layout()\n",
    "plt.show()"
   ]
  },
  {
   "cell_type": "code",
   "execution_count": null,
   "metadata": {},
   "outputs": [],
   "source": [
    "train_data = pd.read_csv('../dataset/ant_train.csv')\n",
    "test_data = pd.read_csv('../dataset/ant_test.csv')\n",
    "\n",
    "train_data.columns"
   ]
  },
  {
   "cell_type": "code",
   "execution_count": null,
   "metadata": {},
   "outputs": [],
   "source": [
    "train_data['label'].describe()"
   ]
  },
  {
   "cell_type": "code",
   "execution_count": null,
   "metadata": {},
   "outputs": [],
   "source": [
    "sns.displot(train_data['label']);"
   ]
  },
  {
   "cell_type": "code",
   "execution_count": null,
   "metadata": {},
   "outputs": [],
   "source": [
    "# Calculate proportions\n",
    "label_counts = train_data['label'].value_counts(normalize=True)  # Normalize gives proportions\n",
    "print(label_counts)  # Display proportions in the console\n",
    "\n",
    "sns.barplot(x=label_counts.index, y=label_counts.values)\n",
    "plt.xlabel('Label')\n",
    "plt.ylabel('Proportion')\n",
    "plt.title('Proportion of Labels (0 vs 1)')\n",
    "plt.show()\n"
   ]
  },
  {
   "cell_type": "code",
   "execution_count": null,
   "metadata": {},
   "outputs": [],
   "source": [
    "#skewness and kurtosis\n",
    "print(\"Skewness: %f\" % train_data['label'].skew())\n",
    "print(\"Kurtosis: %f\" % train_data['label'].kurt())"
   ]
  },
  {
   "cell_type": "code",
   "execution_count": null,
   "metadata": {},
   "outputs": [],
   "source": [
    "#scatter plot F72/label\n",
    "var = 'F72'\n",
    "data = pd.concat([train_data['label'], train_data[var]], axis=1)\n",
    "data.plot.scatter(x=var, y='label', ylim=(-0.1,1.1));"
   ]
  },
  {
   "cell_type": "code",
   "execution_count": null,
   "metadata": {},
   "outputs": [],
   "source": [
    "#scatter plot F25/label\n",
    "var = 'F25'\n",
    "data = pd.concat([train_data['label'], train_data[var]], axis=1)\n",
    "data.plot.scatter(x=var, y='label', ylim=(-0.1,1.1));"
   ]
  },
  {
   "cell_type": "code",
   "execution_count": null,
   "metadata": {},
   "outputs": [],
   "source": [
    "#scatter plot F71-jskeet@apache.org/label\n",
    "var = 'F71-jskeet@apache.org'\n",
    "data = pd.concat([train_data['label'], train_data[var]], axis=1)\n",
    "data.plot.scatter(x=var, y='label', ylim=(-0.1,1.1));"
   ]
  },
  {
   "cell_type": "code",
   "execution_count": null,
   "metadata": {},
   "outputs": [],
   "source": [
    "#scatter plot F15-private/label\n",
    "var = 'F15-private'\n",
    "data = pd.concat([train_data['label'], train_data[var]], axis=1)\n",
    "data.plot.scatter(x=var, y='label', ylim=(-0.1,1.1));"
   ]
  },
  {
   "cell_type": "code",
   "execution_count": null,
   "metadata": {},
   "outputs": [],
   "source": [
    "#scatter plot F22/label\n",
    "var = 'F22'\n",
    "data = pd.concat([train_data['label'], train_data[var]], axis=1)\n",
    "data.plot.scatter(x=var, y='label', ylim=(-0.1,1.1));"
   ]
  },
  {
   "cell_type": "code",
   "execution_count": null,
   "metadata": {},
   "outputs": [],
   "source": [
    "#scatter plot F65/label\n",
    "var = 'F65'\n",
    "data = pd.concat([train_data['label'], train_data[var]], axis=1)\n",
    "data.plot.scatter(x=var, y='label', ylim=(-0.1,1.1));"
   ]
  },
  {
   "cell_type": "code",
   "execution_count": null,
   "metadata": {},
   "outputs": [],
   "source": [
    "#box plot F72/label\n",
    "var = 'F72'\n",
    "data = pd.concat([train_data['label'], train_data[var]], axis=1)\n",
    "f, ax = plt.subplots(figsize=(8, 6))\n",
    "fig = sns.boxplot(x=var, y=\"label\", data=data)\n",
    "fig.axis(ymin=0, ymax=1.1);"
   ]
  },
  {
   "cell_type": "code",
   "execution_count": null,
   "metadata": {},
   "outputs": [],
   "source": [
    "var = 'F25'\n",
    "data = pd.concat([train_data['label'], train_data[var]], axis=1)\n",
    "f, ax = plt.subplots(figsize=(16, 8))\n",
    "fig = sns.boxplot(x=var, y=\"label\", data=data)\n",
    "fig.axis(ymin=0, ymax=1.1);\n",
    "plt.xticks(rotation=90);"
   ]
  },
  {
   "cell_type": "code",
   "execution_count": null,
   "metadata": {},
   "outputs": [],
   "source": [
    "#correlation matrix\n",
    "corrmat = train_data.corr()\n",
    "f, ax = plt.subplots(figsize=(12, 9))\n",
    "sns.heatmap(corrmat, vmax=.8, square=True);"
   ]
  },
  {
   "cell_type": "code",
   "execution_count": null,
   "metadata": {},
   "outputs": [],
   "source": [
    "#label correlation matrix\n",
    "k = 10 #number of variables for heatmap\n",
    "cols = corrmat.nlargest(k, 'label')['label'].index\n",
    "cm = np.corrcoef(train_data[cols].values.T)\n",
    "sns.set(font_scale=1.25)\n",
    "hm = sns.heatmap(cm, cbar=True, annot=True, square=True, fmt='.2f', annot_kws={'size': 10}, yticklabels=cols.values, xticklabels=cols.values)\n",
    "plt.show()"
   ]
  },
  {
   "cell_type": "code",
   "execution_count": null,
   "metadata": {},
   "outputs": [],
   "source": [
    "#scatterplot\n",
    "sns.set()\n",
    "cols = ['label', 'F25', 'F104', 'F15-protected', 'F123', 'F71-jskeet@apache.org', 'F41']\n",
    "sns.pairplot(train_data[cols], size = 2.5)\n",
    "plt.show();"
   ]
  },
  {
   "cell_type": "code",
   "execution_count": null,
   "metadata": {},
   "outputs": [],
   "source": [
    "#missing data\n",
    "total = train_data.isnull().sum().sort_values(ascending=False)\n",
    "percent = (train_data.isnull().sum()/train_data.isnull().count()).sort_values(ascending=False)\n",
    "missing_data = pd.concat([total, percent], axis=1, keys=['Total', 'Percent'])\n",
    "missing_data.head(40)"
   ]
  },
  {
   "cell_type": "code",
   "execution_count": null,
   "metadata": {},
   "outputs": [],
   "source": [
    "\n",
    "# Convert 'label' to a NumPy array and reshape it\n",
    "label_array = train_data['label'].to_numpy().reshape(-1, 1)\n",
    "\n",
    "# Standardize the data\n",
    "label_scaled = StandardScaler().fit_transform(label_array)\n",
    "\n",
    "# Find low and high ranges\n",
    "low_range = label_scaled[label_scaled[:, 0].argsort()][:10]\n",
    "high_range = label_scaled[label_scaled[:, 0].argsort()][-10:]\n",
    "\n",
    "# Print the results\n",
    "print('Outer range (low) of the distribution:')\n",
    "print(low_range)\n",
    "print('\\nOuter range (high) of the distribution:')\n",
    "print(high_range)"
   ]
  },
  {
   "cell_type": "code",
   "execution_count": null,
   "metadata": {},
   "outputs": [],
   "source": [
    "#bivariate analysis label/F25\n",
    "var = 'F25'\n",
    "data = pd.concat([train_data['label'], train_data[var]], axis=1)\n",
    "data.plot.scatter(x=var, y='label', ylim=(0,1));"
   ]
  },
  {
   "cell_type": "code",
   "execution_count": null,
   "metadata": {},
   "outputs": [],
   "source": [
    "#scatter plot\n",
    "plt.scatter(train_data[train_data['F101']>0]['F101'], train_data[train_data['F101']>0]['F101']);"
   ]
  },
  {
   "cell_type": "code",
   "execution_count": null,
   "metadata": {},
   "outputs": [],
   "source": [
    "#scatter plot\n",
    "plt.scatter(train_data[train_data['F72']>0]['F72'], train_data[train_data['F72']>0]['F72']);"
   ]
  },
  {
   "cell_type": "code",
   "execution_count": null,
   "metadata": {},
   "outputs": [],
   "source": [
    "#scatter plot\n",
    "plt.scatter(train_data[train_data['F65']>0]['F65'], train_data[train_data['F65']>0]['F65']);"
   ]
  },
  {
   "cell_type": "code",
   "execution_count": null,
   "metadata": {},
   "outputs": [],
   "source": [
    "#scatter plot\n",
    "plt.scatter(train_data[train_data['F15-public']>0]['F15-public'], train_data[train_data['F15-public']>0]['F15-public']);"
   ]
  },
  {
   "cell_type": "code",
   "execution_count": null,
   "metadata": {},
   "outputs": [],
   "source": [
    "train_data = pd.get_dummies(train_data)"
   ]
  },
  {
   "cell_type": "code",
   "execution_count": null,
   "metadata": {},
   "outputs": [],
   "source": [
    "train_data"
   ]
  },
  {
   "cell_type": "code",
   "execution_count": null,
   "metadata": {},
   "outputs": [],
   "source": [
    "test_data"
   ]
  },
  {
   "cell_type": "code",
   "execution_count": null,
   "metadata": {},
   "outputs": [],
   "source": []
  }
 ],
 "metadata": {
  "kernelspec": {
   "display_name": "Python 3",
   "language": "python",
   "name": "python3"
  },
  "language_info": {
   "codemirror_mode": {
    "name": "ipython",
    "version": 3
   },
   "file_extension": ".py",
   "mimetype": "text/x-python",
   "name": "python",
   "nbconvert_exporter": "python",
   "pygments_lexer": "ipython3",
   "version": "3.11.4"
  }
 },
 "nbformat": 4,
 "nbformat_minor": 2
}
