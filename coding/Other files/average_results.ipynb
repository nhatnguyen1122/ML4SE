{
 "cells": [
  {
   "cell_type": "code",
   "execution_count": null,
   "metadata": {},
   "outputs": [
    {
     "name": "stdout",
     "output_type": "stream",
     "text": [
      "Average results have been saved to 'average_results.csv'.\n"
     ]
    }
   ],
   "source": [
    "import pandas as pd\n",
    "import numpy as np\n",
    "\n",
    "input_files = [\n",
    "    'eva_ant.csv',\n",
    "    'eva_cass.csv',\n",
    "    'eva_common.csv',\n",
    "    'eva_derby.csv',\n",
    "    'eva_Jmeter.csv',\n",
    "    'eva_lucence.csv',\n",
    "    'eva_mvn.csv',\n",
    "    'eva_phoenix.csv',\n",
    "    'eva_tomcat.csv'\n",
    "]\n",
    "\n",
    "model_data = {}\n",
    "\n",
    "for file in input_files:\n",
    "    df = pd.read_csv(file)\n",
    "    \n",
    "    for _, row in df.iterrows():\n",
    "        model = row['Model']\n",
    "        if model not in model_data:\n",
    "            model_data[model] = {'Accuracy': [], 'Precision': [], 'Recall': [], 'F1 Score': [], 'AUC Score': []}\n",
    "        \n",
    "        model_data[model]['Accuracy'].append(row['Accuracy'])\n",
    "        model_data[model]['Precision'].append(row['Precision'])\n",
    "        model_data[model]['Recall'].append(row['Recall'])\n",
    "        model_data[model]['F1 Score'].append(row['F1 Score'])\n",
    "        model_data[model]['AUC Score'].append(row['AUC Score'])\n",
    "\n",
    "output_data = []\n",
    "for model, metrics in model_data.items():\n",
    "    avg_accuracy = round(np.mean(metrics['Accuracy']), 4)\n",
    "    avg_precision = round(np.mean(metrics['Precision']), 4)\n",
    "    avg_recall = round(np.mean(metrics['Recall']), 4)\n",
    "    avg_f1_score = round(np.mean(metrics['F1 Score']), 4)\n",
    "    avg_auc_score = round(np.mean(metrics['AUC Score']), 4)\n",
    "    \n",
    "    output_data.append([model, avg_accuracy, avg_precision, avg_recall, avg_f1_score, avg_auc_score])\n",
    "\n",
    "output_df = pd.DataFrame(output_data, columns=['Model', 'Accuracy', 'Precision', 'Recall', 'F1 Score', 'AUC Score'])\n",
    "\n",
    "output_df.to_csv('average_results.csv', index=False)\n",
    "\n"
   ]
  },
  {
   "cell_type": "code",
   "execution_count": null,
   "metadata": {},
   "outputs": [],
   "source": []
  }
 ],
 "metadata": {
  "kernelspec": {
   "display_name": "Python 3",
   "language": "python",
   "name": "python3"
  },
  "language_info": {
   "codemirror_mode": {
    "name": "ipython",
    "version": 3
   },
   "file_extension": ".py",
   "mimetype": "text/x-python",
   "name": "python",
   "nbconvert_exporter": "python",
   "pygments_lexer": "ipython3",
   "version": "3.11.4"
  }
 },
 "nbformat": 4,
 "nbformat_minor": 2
}
