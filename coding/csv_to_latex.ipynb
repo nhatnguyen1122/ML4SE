{
 "cells": [
  {
   "cell_type": "code",
   "execution_count": 6,
   "metadata": {},
   "outputs": [
    {
     "name": "stdout",
     "output_type": "stream",
     "text": [
      "Latex code has been saved to file2_latex.tex\n"
     ]
    }
   ],
   "source": [
    "import pandas as pd\n",
    "\n",
    "def csv_to_latex(csv_file, output_file):\n",
    "    df = pd.read_csv(csv_file)\n",
    "\n",
    "    latex_code = df.to_latex(index=False, escape=False)\n",
    "\n",
    "    with open(output_file, 'w') as f:\n",
    "        f.write(latex_code)\n",
    "\n",
    "    print(f\"Latex code has been saved to {output_file}\")\n",
    "\n",
    "csv_to_latex('average_results.csv', 'file2_latex.tex')\n"
   ]
  },
  {
   "cell_type": "code",
   "execution_count": null,
   "metadata": {},
   "outputs": [],
   "source": []
  }
 ],
 "metadata": {
  "kernelspec": {
   "display_name": "Python 3",
   "language": "python",
   "name": "python3"
  },
  "language_info": {
   "codemirror_mode": {
    "name": "ipython",
    "version": 3
   },
   "file_extension": ".py",
   "mimetype": "text/x-python",
   "name": "python",
   "nbconvert_exporter": "python",
   "pygments_lexer": "ipython3",
   "version": "3.11.4"
  }
 },
 "nbformat": 4,
 "nbformat_minor": 2
}
